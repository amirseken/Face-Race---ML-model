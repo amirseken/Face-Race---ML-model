{
  "cells": [
    {
      "cell_type": "markdown",
      "metadata": {
        "id": "CSraORGwdUo5"
      },
      "source": [
        "**Transfer Learning model using VGG**"
      ]
    },
    {
      "cell_type": "code",
      "execution_count": null,
      "metadata": {
        "colab": {
          "base_uri": "https://localhost:8080/"
        },
        "id": "0yMOUEtYvIi5",
        "outputId": "0fa56bce-63b0-46cf-cc18-b871fc0f5e7c"
      },
      "outputs": [
        {
          "output_type": "execute_result",
          "data": {
            "text/plain": [
              "<torch._C.Generator at 0x7f5794de9bf0>"
            ]
          },
          "metadata": {},
          "execution_count": 15
        }
      ],
      "source": [
        "import numpy as np\n",
        "import time\n",
        "import torch\n",
        "import torch.nn as nn\n",
        "\n",
        "import torch.nn.functional as F\n",
        "import torch.optim as optim\n",
        "import torchvision\n",
        "from torch.utils.data.sampler import SubsetRandomSampler\n",
        "import torchvision.transforms as transforms\n",
        "import matplotlib.pyplot as plt\n",
        "import math\n",
        "import torchvision.models as models\n",
        "\n",
        "torch.manual_seed(1)"
      ]
    },
    {
      "cell_type": "code",
      "execution_count": null,
      "metadata": {
        "id": "z9F9dbC6qKs8"
      },
      "outputs": [],
      "source": [
        "!unzip 'DatasetAugmented' "
      ]
    },
    {
      "cell_type": "code",
      "execution_count": null,
      "metadata": {
        "colab": {
          "base_uri": "https://localhost:8080/",
          "height": 67,
          "referenced_widgets": [
            "7b70945b30654f4486295d2a08fa93c2",
            "0b78d0b2b5d64beab4edff4c3402bfff",
            "df94ca96ada24c3b8f11e7556d083958",
            "974f77f7b5c94e81b3c43ede9b46d411",
            "c31670ad04a04b3e8941c2042725e779",
            "8def106c4c6a49af8d04ad7e89c4bceb",
            "7fc7b705d40d4128a47e8f3eee70b738",
            "df75c19cedaf46d2a0deebdcf38940cb",
            "bcae8af440e744dea532805e9545d9d6",
            "fbe8012b93024151b46892d85a1a841e",
            "8c795fc76b12452f80e4b21c35b1be06"
          ]
        },
        "id": "E5yqmYQQXQjN",
        "outputId": "c2f20ede-fbb7-43cb-c323-f6880cacd472"
      },
      "outputs": [
        {
          "output_type": "stream",
          "name": "stderr",
          "text": [
            "Downloading: \"https://download.pytorch.org/models/vgg16-397923af.pth\" to /root/.cache/torch/hub/checkpoints/vgg16-397923af.pth\n"
          ]
        },
        {
          "output_type": "display_data",
          "data": {
            "text/plain": [
              "  0%|          | 0.00/528M [00:00<?, ?B/s]"
            ],
            "application/vnd.jupyter.widget-view+json": {
              "version_major": 2,
              "version_minor": 0,
              "model_id": "7b70945b30654f4486295d2a08fa93c2"
            }
          },
          "metadata": {}
        }
      ],
      "source": [
        "vgg16 = models.vgg.vgg16(pretrained=True)"
      ]
    },
    {
      "cell_type": "code",
      "execution_count": null,
      "metadata": {
        "id": "CrBggkOUcbvq"
      },
      "outputs": [],
      "source": [
        "data_path = 'DatasetAugmented'"
      ]
    },
    {
      "cell_type": "code",
      "execution_count": null,
      "metadata": {
        "id": "nDLI23TEm8yb"
      },
      "outputs": [],
      "source": [
        "def get_data(len_train_data, len_val_data, len_test_data):\n",
        "\n",
        "    transform = transforms.Compose([transforms.Resize((224,224)), \n",
        "                                    transforms.ToTensor()])\n",
        "\n",
        "    #Seperate for training, validation, and test data \n",
        "    dataset = torchvision.datasets.ImageFolder(data_path, transform=transform)\n",
        "    num_train = math.floor(len(dataset)*len_train_data)\n",
        "    num_val = math.floor(len(dataset)*len_val_data)\n",
        "    num_test = math.floor(len(dataset)*len_test_data)\n",
        "    print(\"Number of images for training: \", num_train)\n",
        "    print(\"Number of images for validation: \", num_val)\n",
        "    print(\"Number of images for validation: \", num_test)\n",
        "    dummy_len = len(dataset) - (num_test + num_train + num_val)\n",
        "\n",
        "    # Split into train and validation\n",
        "    train_set, val_set, test_set, dummy = torch.utils.data.random_split(dataset, [num_train, num_val, num_test, dummy_len]) #80%, 10%, 10% split\n",
        "\n",
        "    # return train_loader, val_loader, test_loader\n",
        "    return train_set, val_set, test_set\n"
      ]
    },
    {
      "cell_type": "code",
      "execution_count": null,
      "metadata": {
        "colab": {
          "base_uri": "https://localhost:8080/"
        },
        "id": "Kl5Cv7bvnNx0",
        "outputId": "56c1339a-9bd7-4b32-b3d5-f28708dab649"
      },
      "outputs": [
        {
          "output_type": "stream",
          "name": "stdout",
          "text": [
            "Loading data sets...\n",
            "Number of images for training:  7192\n",
            "Number of images for validation:  1798\n",
            "Number of images for validation:  0\n"
          ]
        }
      ],
      "source": [
        "print(\"Loading data sets...\")\n",
        "train_data, val_data, test_data = get_data(0.8, 0.2, 0)\n",
        "\n",
        "classes = ['BlackAugmented', 'AsianAugmented', 'IndianAugmented', 'LatinoAugmented', 'MiddleEasternAugmented', 'WhiteAugmented']"
      ]
    },
    {
      "cell_type": "code",
      "execution_count": null,
      "metadata": {
        "id": "wZoH88ZlmMRP"
      },
      "outputs": [],
      "source": [
        "class ANNClassifier(nn.Module):\n",
        "    def __init__(self):\n",
        "        super(ANNClassifier, self).__init__()\n",
        "        self.name = \"ANN\"\n",
        "        self.dropout = nn.Dropout(0.5)\n",
        "        self.layer1 = nn.Linear(7 * 512 * 7, 5000) \n",
        "        self.layer2 = nn.Linear(5000, 84)\n",
        "        self.layer3 = nn.Linear(84, 28)\n",
        "        self.layer4 = nn.Linear(28, 6) #6 outputs\n",
        "\n",
        "\n",
        "    def forward(self, img):\n",
        "        flattened = img.view(-1, 7 * 512 * 7)\n",
        "\n",
        "        activation1 = self.layer1(flattened)\n",
        "        activation1 = self.dropout(activation1)\n",
        "\n",
        "        activation1 = F.relu(activation1)\n",
        "        activation1 = self.dropout(activation1)\n",
        "\n",
        "        activation2 = self.layer2(activation1)\n",
        "        activation2 = F.relu(activation2)\n",
        "\n",
        "        activation3 = self.layer3(activation2)\n",
        "        activation3 = self.dropout(activation3)\n",
        "\n",
        "        activation3 = F.relu(activation3)\n",
        "        activation3 = self.dropout(activation3)\n",
        "\n",
        "        output = self.layer4(activation3)\n",
        "        output = output.squeeze(1)\n",
        "        return output\n",
        "\n"
      ]
    },
    {
      "cell_type": "code",
      "execution_count": null,
      "metadata": {
        "id": "QGZ1L2sImPKb"
      },
      "outputs": [],
      "source": [
        "def get_accuracy(model, data, batch_size):\n",
        "    correct = 0\n",
        "    total = 0\n",
        "    for imgs, labels in torch.utils.data.DataLoader(data, batch_size=batch_size, shuffle=True):\n",
        "\n",
        "        #############################################\n",
        "        # To Enable GPU Usage\n",
        "        if torch.cuda.is_available():\n",
        "          imgs = imgs.cuda()\n",
        "          labels = labels.cuda()\n",
        "        #############################################\n",
        "\n",
        "        output = model(VGGC(imgs))\n",
        "        \n",
        "        #select index with maximum prediction score\n",
        "        pred = output.max(1, keepdim=True)[1]\n",
        "        correct += pred.eq(labels.view_as(pred)).sum().item()\n",
        "        total += imgs.shape[0]\n",
        "    return correct / total"
      ]
    },
    {
      "cell_type": "code",
      "execution_count": null,
      "metadata": {
        "id": "JWRfy9jWdGpY"
      },
      "outputs": [],
      "source": [
        "def train(model, train_data, val_data, learning_rate=0.001, batch_size=64, num_epochs=1):\n",
        "    torch.manual_seed(1000)  # set the random seed\n",
        "    train_loader = torch.utils.data.DataLoader(train_data, batch_size=batch_size, shuffle=True)\n",
        "    criterion = nn.CrossEntropyLoss()\n",
        "    optimizer = optim.Adam(model.parameters(), lr=learning_rate)\n",
        "    #optimizer = optim.SGD(model.parameters(), lr=learning_rate, momentum=0.9)\n",
        "\n",
        "    iters, losses, train_acc, val_acc = [], [], [], []\n",
        "\n",
        "    # Training\n",
        "    start_time = time.time()\n",
        "    n = 0 # the number of iterations\n",
        "    for epoch in range(num_epochs):\n",
        "        for imgs, labels in iter(train_loader):\n",
        "            \n",
        "            #############################################\n",
        "            # To Enable GPU Usage\n",
        "            if torch.cuda.is_available():\n",
        "              imgs = imgs.cuda()\n",
        "              labels = labels.cuda()\n",
        "            #############################################\n",
        "            \n",
        "              \n",
        "            out = model(VGGC(imgs))             # forward pass\n",
        "            loss = criterion(out, labels) # compute the total loss\n",
        "            loss.backward()               # backward pass (compute parameter updates)\n",
        "            optimizer.step()              # make the updates for each parameter\n",
        "            optimizer.zero_grad()         # a clean up step for PyTorch\n",
        "\n",
        "            # Save the current training information\n",
        "            iters.append(n)\n",
        "            losses.append(float(loss)/batch_size)             # compute *average* loss\n",
        "            n += 1\n",
        "\n",
        "\n",
        "        train_acc.append(get_accuracy(model, train_data, batch_size)) # compute training accuracy \n",
        "        val_acc.append(get_accuracy(model, val_data, batch_size))  # compute validation accuracy\n",
        "        print((\"Epoch {}: Train acc: {} |\"+\"Validation acc: {}\").format(\n",
        "                epoch + 1,\n",
        "                train_acc[-1],\n",
        "                val_acc[-1]))\n",
        "        \n",
        "\n",
        "    print('Finished Training')\n",
        "    end_time = time.time()\n",
        "    elapsed_time = end_time - start_time\n",
        "    print(\"Total time elapsed: {:.2f} seconds\".format(elapsed_time))\n",
        "\n",
        "    # Plotting\n",
        "    plt.title(\"Training Curve\")\n",
        "    plt.plot(iters, losses, label=\"Train\")\n",
        "    plt.xlabel(\"Iterations\")\n",
        "    plt.ylabel(\"Loss\")\n",
        "    plt.show()\n",
        "\n",
        "    plt.title(\"Training Curve\")\n",
        "    plt.plot(range(1 ,num_epochs+1), train_acc, label=\"Train\")\n",
        "    plt.plot(range(1 ,num_epochs+1), val_acc, label=\"Validation\")\n",
        "    plt.xlabel(\"Epochs\")\n",
        "    plt.ylabel(\"Training Accuracy\")\n",
        "    plt.legend(loc='best')\n",
        "    plt.show()\n",
        "\n",
        "    print(\"Final Training Accuracy: {}\".format(train_acc[-1]))\n",
        "    print(\"Final Validation Accuracy: {}\".format(val_acc[-1]))\n"
      ]
    },
    {
      "cell_type": "code",
      "execution_count": null,
      "metadata": {
        "id": "6zmN9xqBmCi6"
      },
      "outputs": [],
      "source": [
        "\n",
        "model = ANNClassifier()\n",
        "VGGC = vgg16.features\n",
        "\n",
        "if torch.cuda.is_available():\n",
        "    VGGC.cuda()\n",
        "    model_1.cuda() \n",
        "    print('CUDA is available!  Training on GPU ...')\n",
        "else:\n",
        "    print('CUDA is not available.  Training on CPU ...')\n",
        "\n",
        "\n",
        "torch.cuda.memory_summary(device=None, abbreviated=False)\n",
        "train(model_1, train_data, val_data, 0.001, 32, 5)"
      ]
    },
    {
      "cell_type": "code",
      "source": [
        "train(model_1, train_data, val_data, 0.001, 32, 5)"
      ],
      "metadata": {
        "id": "9JORTX7_WQ8N"
      },
      "execution_count": null,
      "outputs": []
    },
    {
      "cell_type": "code",
      "source": [
        "train(model_1, train_data, val_data, 0.001, 32, 5)"
      ],
      "metadata": {
        "id": "RuzX2kzbWRXn"
      },
      "execution_count": null,
      "outputs": []
    }
  ],
  "metadata": {
    "accelerator": "GPU",
    "colab": {
      "collapsed_sections": [],
      "name": "Transfer_Learning_model.ipynb",
      "provenance": []
    },
    "kernelspec": {
      "display_name": "Python 3",
      "name": "python3"
    },
    "language_info": {
      "name": "python"
    },
    "widgets": {
      "application/vnd.jupyter.widget-state+json": {
        "7b70945b30654f4486295d2a08fa93c2": {
          "model_module": "@jupyter-widgets/controls",
          "model_name": "HBoxModel",
          "model_module_version": "1.5.0",
          "state": {
            "_dom_classes": [],
            "_model_module": "@jupyter-widgets/controls",
            "_model_module_version": "1.5.0",
            "_model_name": "HBoxModel",
            "_view_count": null,
            "_view_module": "@jupyter-widgets/controls",
            "_view_module_version": "1.5.0",
            "_view_name": "HBoxView",
            "box_style": "",
            "children": [
              "IPY_MODEL_0b78d0b2b5d64beab4edff4c3402bfff",
              "IPY_MODEL_df94ca96ada24c3b8f11e7556d083958",
              "IPY_MODEL_974f77f7b5c94e81b3c43ede9b46d411"
            ],
            "layout": "IPY_MODEL_c31670ad04a04b3e8941c2042725e779"
          }
        },
        "0b78d0b2b5d64beab4edff4c3402bfff": {
          "model_module": "@jupyter-widgets/controls",
          "model_name": "HTMLModel",
          "model_module_version": "1.5.0",
          "state": {
            "_dom_classes": [],
            "_model_module": "@jupyter-widgets/controls",
            "_model_module_version": "1.5.0",
            "_model_name": "HTMLModel",
            "_view_count": null,
            "_view_module": "@jupyter-widgets/controls",
            "_view_module_version": "1.5.0",
            "_view_name": "HTMLView",
            "description": "",
            "description_tooltip": null,
            "layout": "IPY_MODEL_8def106c4c6a49af8d04ad7e89c4bceb",
            "placeholder": "​",
            "style": "IPY_MODEL_7fc7b705d40d4128a47e8f3eee70b738",
            "value": "100%"
          }
        },
        "df94ca96ada24c3b8f11e7556d083958": {
          "model_module": "@jupyter-widgets/controls",
          "model_name": "FloatProgressModel",
          "model_module_version": "1.5.0",
          "state": {
            "_dom_classes": [],
            "_model_module": "@jupyter-widgets/controls",
            "_model_module_version": "1.5.0",
            "_model_name": "FloatProgressModel",
            "_view_count": null,
            "_view_module": "@jupyter-widgets/controls",
            "_view_module_version": "1.5.0",
            "_view_name": "ProgressView",
            "bar_style": "success",
            "description": "",
            "description_tooltip": null,
            "layout": "IPY_MODEL_df75c19cedaf46d2a0deebdcf38940cb",
            "max": 553433881,
            "min": 0,
            "orientation": "horizontal",
            "style": "IPY_MODEL_bcae8af440e744dea532805e9545d9d6",
            "value": 553433881
          }
        },
        "974f77f7b5c94e81b3c43ede9b46d411": {
          "model_module": "@jupyter-widgets/controls",
          "model_name": "HTMLModel",
          "model_module_version": "1.5.0",
          "state": {
            "_dom_classes": [],
            "_model_module": "@jupyter-widgets/controls",
            "_model_module_version": "1.5.0",
            "_model_name": "HTMLModel",
            "_view_count": null,
            "_view_module": "@jupyter-widgets/controls",
            "_view_module_version": "1.5.0",
            "_view_name": "HTMLView",
            "description": "",
            "description_tooltip": null,
            "layout": "IPY_MODEL_fbe8012b93024151b46892d85a1a841e",
            "placeholder": "​",
            "style": "IPY_MODEL_8c795fc76b12452f80e4b21c35b1be06",
            "value": " 528M/528M [00:03&lt;00:00, 184MB/s]"
          }
        },
        "c31670ad04a04b3e8941c2042725e779": {
          "model_module": "@jupyter-widgets/base",
          "model_name": "LayoutModel",
          "model_module_version": "1.2.0",
          "state": {
            "_model_module": "@jupyter-widgets/base",
            "_model_module_version": "1.2.0",
            "_model_name": "LayoutModel",
            "_view_count": null,
            "_view_module": "@jupyter-widgets/base",
            "_view_module_version": "1.2.0",
            "_view_name": "LayoutView",
            "align_content": null,
            "align_items": null,
            "align_self": null,
            "border": null,
            "bottom": null,
            "display": null,
            "flex": null,
            "flex_flow": null,
            "grid_area": null,
            "grid_auto_columns": null,
            "grid_auto_flow": null,
            "grid_auto_rows": null,
            "grid_column": null,
            "grid_gap": null,
            "grid_row": null,
            "grid_template_areas": null,
            "grid_template_columns": null,
            "grid_template_rows": null,
            "height": null,
            "justify_content": null,
            "justify_items": null,
            "left": null,
            "margin": null,
            "max_height": null,
            "max_width": null,
            "min_height": null,
            "min_width": null,
            "object_fit": null,
            "object_position": null,
            "order": null,
            "overflow": null,
            "overflow_x": null,
            "overflow_y": null,
            "padding": null,
            "right": null,
            "top": null,
            "visibility": null,
            "width": null
          }
        },
        "8def106c4c6a49af8d04ad7e89c4bceb": {
          "model_module": "@jupyter-widgets/base",
          "model_name": "LayoutModel",
          "model_module_version": "1.2.0",
          "state": {
            "_model_module": "@jupyter-widgets/base",
            "_model_module_version": "1.2.0",
            "_model_name": "LayoutModel",
            "_view_count": null,
            "_view_module": "@jupyter-widgets/base",
            "_view_module_version": "1.2.0",
            "_view_name": "LayoutView",
            "align_content": null,
            "align_items": null,
            "align_self": null,
            "border": null,
            "bottom": null,
            "display": null,
            "flex": null,
            "flex_flow": null,
            "grid_area": null,
            "grid_auto_columns": null,
            "grid_auto_flow": null,
            "grid_auto_rows": null,
            "grid_column": null,
            "grid_gap": null,
            "grid_row": null,
            "grid_template_areas": null,
            "grid_template_columns": null,
            "grid_template_rows": null,
            "height": null,
            "justify_content": null,
            "justify_items": null,
            "left": null,
            "margin": null,
            "max_height": null,
            "max_width": null,
            "min_height": null,
            "min_width": null,
            "object_fit": null,
            "object_position": null,
            "order": null,
            "overflow": null,
            "overflow_x": null,
            "overflow_y": null,
            "padding": null,
            "right": null,
            "top": null,
            "visibility": null,
            "width": null
          }
        },
        "7fc7b705d40d4128a47e8f3eee70b738": {
          "model_module": "@jupyter-widgets/controls",
          "model_name": "DescriptionStyleModel",
          "model_module_version": "1.5.0",
          "state": {
            "_model_module": "@jupyter-widgets/controls",
            "_model_module_version": "1.5.0",
            "_model_name": "DescriptionStyleModel",
            "_view_count": null,
            "_view_module": "@jupyter-widgets/base",
            "_view_module_version": "1.2.0",
            "_view_name": "StyleView",
            "description_width": ""
          }
        },
        "df75c19cedaf46d2a0deebdcf38940cb": {
          "model_module": "@jupyter-widgets/base",
          "model_name": "LayoutModel",
          "model_module_version": "1.2.0",
          "state": {
            "_model_module": "@jupyter-widgets/base",
            "_model_module_version": "1.2.0",
            "_model_name": "LayoutModel",
            "_view_count": null,
            "_view_module": "@jupyter-widgets/base",
            "_view_module_version": "1.2.0",
            "_view_name": "LayoutView",
            "align_content": null,
            "align_items": null,
            "align_self": null,
            "border": null,
            "bottom": null,
            "display": null,
            "flex": null,
            "flex_flow": null,
            "grid_area": null,
            "grid_auto_columns": null,
            "grid_auto_flow": null,
            "grid_auto_rows": null,
            "grid_column": null,
            "grid_gap": null,
            "grid_row": null,
            "grid_template_areas": null,
            "grid_template_columns": null,
            "grid_template_rows": null,
            "height": null,
            "justify_content": null,
            "justify_items": null,
            "left": null,
            "margin": null,
            "max_height": null,
            "max_width": null,
            "min_height": null,
            "min_width": null,
            "object_fit": null,
            "object_position": null,
            "order": null,
            "overflow": null,
            "overflow_x": null,
            "overflow_y": null,
            "padding": null,
            "right": null,
            "top": null,
            "visibility": null,
            "width": null
          }
        },
        "bcae8af440e744dea532805e9545d9d6": {
          "model_module": "@jupyter-widgets/controls",
          "model_name": "ProgressStyleModel",
          "model_module_version": "1.5.0",
          "state": {
            "_model_module": "@jupyter-widgets/controls",
            "_model_module_version": "1.5.0",
            "_model_name": "ProgressStyleModel",
            "_view_count": null,
            "_view_module": "@jupyter-widgets/base",
            "_view_module_version": "1.2.0",
            "_view_name": "StyleView",
            "bar_color": null,
            "description_width": ""
          }
        },
        "fbe8012b93024151b46892d85a1a841e": {
          "model_module": "@jupyter-widgets/base",
          "model_name": "LayoutModel",
          "model_module_version": "1.2.0",
          "state": {
            "_model_module": "@jupyter-widgets/base",
            "_model_module_version": "1.2.0",
            "_model_name": "LayoutModel",
            "_view_count": null,
            "_view_module": "@jupyter-widgets/base",
            "_view_module_version": "1.2.0",
            "_view_name": "LayoutView",
            "align_content": null,
            "align_items": null,
            "align_self": null,
            "border": null,
            "bottom": null,
            "display": null,
            "flex": null,
            "flex_flow": null,
            "grid_area": null,
            "grid_auto_columns": null,
            "grid_auto_flow": null,
            "grid_auto_rows": null,
            "grid_column": null,
            "grid_gap": null,
            "grid_row": null,
            "grid_template_areas": null,
            "grid_template_columns": null,
            "grid_template_rows": null,
            "height": null,
            "justify_content": null,
            "justify_items": null,
            "left": null,
            "margin": null,
            "max_height": null,
            "max_width": null,
            "min_height": null,
            "min_width": null,
            "object_fit": null,
            "object_position": null,
            "order": null,
            "overflow": null,
            "overflow_x": null,
            "overflow_y": null,
            "padding": null,
            "right": null,
            "top": null,
            "visibility": null,
            "width": null
          }
        },
        "8c795fc76b12452f80e4b21c35b1be06": {
          "model_module": "@jupyter-widgets/controls",
          "model_name": "DescriptionStyleModel",
          "model_module_version": "1.5.0",
          "state": {
            "_model_module": "@jupyter-widgets/controls",
            "_model_module_version": "1.5.0",
            "_model_name": "DescriptionStyleModel",
            "_view_count": null,
            "_view_module": "@jupyter-widgets/base",
            "_view_module_version": "1.2.0",
            "_view_name": "StyleView",
            "description_width": ""
          }
        }
      }
    }
  },
  "nbformat": 4,
  "nbformat_minor": 0
}